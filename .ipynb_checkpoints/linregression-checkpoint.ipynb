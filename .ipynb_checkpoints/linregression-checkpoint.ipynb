{
 "cells": [
  {
   "cell_type": "code",
   "execution_count": 1,
   "id": "d8c777dd",
   "metadata": {},
   "outputs": [],
   "source": [
    "import numpy as np \n",
    "import matplotlib.pyplot as plt"
   ]
  },
  {
   "cell_type": "code",
   "execution_count": 27,
   "id": "cf115000",
   "metadata": {},
   "outputs": [],
   "source": [
    "#mylist1=[input('enter the values:')]\n",
    "#x=np.array(mylist1)\n",
    "#print(x)\n",
    "#mylist2=[input('enter the values:')]\n",
    "#y=np.array(mylist2)\n",
    "#print(y)"
   ]
  },
  {
   "cell_type": "code",
   "execution_count": 4,
   "id": "39d120e8",
   "metadata": {},
   "outputs": [],
   "source": [
    "def linreg(x,y):\n",
    "    n=len(x)\n",
    "    mean_of_x=np.mean(x)\n",
    "    mean_of_y=np.mean(y)\n",
    "    Var_x=np.sum((x-mean_of_x)**2)\n",
    "    Cov_xy=np.sum(((y-mean_of_y)*(x-mean_of_x)))\n",
    "    w=Cov_xy/Var_x\n",
    "    b=mean_of_y-w*mean_of_x\n",
    "    y_predict = w*x+b\n",
    "    plt.scatter(x,y,marker='*',color='g')\n",
    "    plt.plot(x,y_predict,color='red')\n",
    "    plt.show()\n",
    "    SS=np.sum((y_predict-mean_of_y)**2)/np.sum((y-mean_of_y)**2) \n",
    "    print(\"ACCURACY OF THE LINEAR REGRESSION IS: %.2f%%\" %(SS*100))\n",
    "    SSE = np.sum((y-y_predict)**2)  \n",
    "    print(\"SUM OF SQUARED ERROR IS: %.2f\" %(SSE))\n",
    "    MSE = SSE / (n-2)\n",
    "    print(\"MEAN SQUARE ERROR IS: %.2f\" %(MSE))"
   ]
  },
  {
   "cell_type": "code",
   "execution_count": null,
   "id": "9d56f3a6",
   "metadata": {},
   "outputs": [],
   "source": []
  },
  {
   "cell_type": "code",
   "execution_count": null,
   "id": "f56c33bf",
   "metadata": {},
   "outputs": [],
   "source": []
  }
 ],
 "metadata": {
  "kernelspec": {
   "display_name": "Python 3 (ipykernel)",
   "language": "python",
   "name": "python3"
  },
  "language_info": {
   "codemirror_mode": {
    "name": "ipython",
    "version": 3
   },
   "file_extension": ".py",
   "mimetype": "text/x-python",
   "name": "python",
   "nbconvert_exporter": "python",
   "pygments_lexer": "ipython3",
   "version": "3.9.12"
  }
 },
 "nbformat": 4,
 "nbformat_minor": 5
}
